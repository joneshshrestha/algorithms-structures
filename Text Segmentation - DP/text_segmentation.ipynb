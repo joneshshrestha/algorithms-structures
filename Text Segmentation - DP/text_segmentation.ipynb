{
 "cells": [
  {
   "cell_type": "code",
   "execution_count": 83,
   "id": "59543817-277e-4e9b-9240-e8807eaed2a4",
   "metadata": {},
   "outputs": [],
   "source": [
    "words = open('words.txt', 'r').read().split()\n",
    "\n",
    "def is_word(w):\n",
    "    return w in words\n",
    "\n",
    "def find_split(s):\n",
    "    # dictionary split that stores whether we can split at a specific position (i)\n",
    "    # this also works as base case marking the (end + 1)th position splittable\n",
    "    # so that when we reach the end of the word, we can split the last word\n",
    "    split = {len(s): True}\n",
    "\n",
    "    # Dictionary to store where the next split point is for position i\n",
    "    # If we can split at i, next_split[i] tells us where that first word ends\n",
    "    last_split_point = {}  # Stores where the last valid split occurred\n",
    "\n",
    "    # start building the dynamic programming table from right to left\n",
    "    # starts by checking from right to left i.e. i from end position to start position\n",
    "    # while checking from end posiion to start position with i\n",
    "    # we also check if the (end + 1)th position to the ith position\n",
    "    # i.e. s[i:j] is a word or not and if we can split the remaining part i.e. s[j:]\n",
    "    for i in range(len(s) - 1, -1, -1):\n",
    "        for j in range(len(s), i, -1):\n",
    "            # I have used .get() method which allows to set default value i.e False\n",
    "            # if no value is present in the given key of the dictionary\n",
    "            # however if the value is present in the given key it fetches the value\n",
    "            if is_word(s[i:j]) and split.get(j, False):\n",
    "                # if we can, we mark the position(i) as splittable i.e. True\n",
    "                split[i] = True\n",
    "                # also store upto where we can split\n",
    "                last_split_point[i] = j\n",
    "                # we found the valid split so we break\n",
    "                break\n",
    "\n",
    "    # check if the 0th position element exist\n",
    "    # but if there is missing value it returns\n",
    "    if not last_split_point.get(0):\n",
    "        return \n",
    "    \n",
    "    # rebuilding the string using the last_split_point\n",
    "    result = []\n",
    "    i = 0\n",
    "    # loop until there is elements in last_split_point\n",
    "    while i in last_split_point:\n",
    "        # append text(s) by splittling from the first last_split_point value,\n",
    "        # which is the first splittable word starting from i = 0 to last_split_point\n",
    "        result.append(s[i:last_split_point[i]])\n",
    "        # assign the i to last_split_point so that we can again split \n",
    "        # from the first last_split_point to the second last_split_point and so on...\n",
    "        i = last_split_point[i]\n",
    "\n",
    "    # return the list result by separating each item with ' '\n",
    "    return ' '.join(result)"
   ]
  },
  {
   "cell_type": "code",
   "execution_count": 84,
   "id": "a710a970-7933-462c-a24f-22a6271273b0",
   "metadata": {},
   "outputs": [
    {
     "data": {
      "text/plain": [
       "'la cs'"
      ]
     },
     "execution_count": 84,
     "metadata": {},
     "output_type": "execute_result"
    }
   ],
   "source": [
    "find_split('lacs')"
   ]
  },
  {
   "cell_type": "code",
   "execution_count": 85,
   "id": "99cf2ff9-12b9-4c03-bee7-7eeffe8634f4",
   "metadata": {},
   "outputs": [
    {
     "data": {
      "text/plain": [
       "'today is not friday'"
      ]
     },
     "execution_count": 85,
     "metadata": {},
     "output_type": "execute_result"
    }
   ],
   "source": [
    "find_split('todayisnotfriday')"
   ]
  },
  {
   "cell_type": "code",
   "execution_count": 86,
   "id": "165cfd9f-41e7-4b6b-a8ee-9df9a5febd5b",
   "metadata": {},
   "outputs": [
    {
     "data": {
      "text/plain": [
       "'when ii la cs'"
      ]
     },
     "execution_count": 86,
     "metadata": {},
     "output_type": "execute_result"
    }
   ],
   "source": [
    "find_split('wheniilacs' )"
   ]
  },
  {
   "cell_type": "code",
   "execution_count": 87,
   "id": "c9d4a7f2-e5d2-41d9-9407-8e953a96a4f7",
   "metadata": {},
   "outputs": [],
   "source": [
    "find_split('xkcd')"
   ]
  }
 ],
 "metadata": {
  "kernelspec": {
   "display_name": "Python 3 (ipykernel)",
   "language": "python",
   "name": "python3"
  },
  "language_info": {
   "codemirror_mode": {
    "name": "ipython",
    "version": 3
   },
   "file_extension": ".py",
   "mimetype": "text/x-python",
   "name": "python",
   "nbconvert_exporter": "python",
   "pygments_lexer": "ipython3",
   "version": "3.13.1"
  }
 },
 "nbformat": 4,
 "nbformat_minor": 5
}
