{
 "cells": [
  {
   "cell_type": "code",
   "execution_count": 19,
   "id": "299a5d3e-e5bf-45fd-9d2c-6a28d3502469",
   "metadata": {},
   "outputs": [],
   "source": [
    "def duplicates(lst):\n",
    "    dups = []\n",
    "    for i in range(len(lst) - 1):\n",
    "        for j in range(i, len(lst) - 1):\n",
    "            if lst[i] == lst[j + 1]:\n",
    "                dups.append(lst[i])\n",
    "            \n",
    "    return dups"
   ]
  },
  {
   "cell_type": "code",
   "execution_count": 20,
   "id": "5963162e-acc6-4a87-bf9f-d7e8bd4e9b6c",
   "metadata": {},
   "outputs": [
    {
     "data": {
      "text/plain": [
       "['dog', 'dog', 'bat', 'dog']"
      ]
     },
     "execution_count": 20,
     "metadata": {},
     "output_type": "execute_result"
    }
   ],
   "source": [
    "lst = ['cat', 'dog', 'bat', 'dog', 'fish', 'dog', 'bat']\n",
    "duplicates(lst)"
   ]
  },
  {
   "cell_type": "code",
   "execution_count": 2,
   "id": "6e62bb01-0685-418c-8274-2de7df26fb87",
   "metadata": {},
   "outputs": [],
   "source": [
    "def ct_sub_sum(X, t):\n",
    " 'how many subsets of X sum up to t?'\n",
    " if len(X) == 0:\n",
    "     return t == 0\n",
    " return ct_sub_sum(X[1:], t) or ct_sub_sum(X[1:], t-X[0]) "
   ]
  },
  {
   "cell_type": "code",
   "execution_count": 4,
   "id": "f0026efe-1db2-419e-9a59-2948d773665b",
   "metadata": {},
   "outputs": [],
   "source": [
    "def sub_sum (X, t) :\n",
    "    'is there a subset of X that sums up to t?'\n",
    "    if len (X) == 0:\n",
    "        return t == 0\n",
    "    return sub_sum(X[1:], t) or sub_sum(X[1:], t-X[0])"
   ]
  },
  {
   "cell_type": "code",
   "execution_count": 9,
   "id": "6d3f9b8f-c681-4efe-a140-9298cac26aca",
   "metadata": {},
   "outputs": [],
   "source": [
    "def ct_sub_sum(X, t):\n",
    "    if len(X) == 0:\n",
    "        # base case: if the list is empty and sum (t) == 0 we return 1 else 0\n",
    "        # instead of returning a boolean value if a valid subset is found\n",
    "        # i have instead returned 1 if a subset is found i.e. t == 0\n",
    "        # and if subset is not found I return 0 i.e t != 0\n",
    "        if t == 0:\n",
    "            return 1\n",
    "        else:\n",
    "            return 0\n",
    "\n",
    "    # previously it only returned boolean value if a subset is found using 'or' logic\n",
    "    # I have replaced this with '+' which will add the returned value of 1 each time a subset is found\n",
    "    # from both recursive calls\n",
    "    # and sums it up to return the counts of how many subsets of X sum up to t\n",
    "    return ct_sub_sum(X[1:], t) + ct_sub_sum(X[1:], t-X[0])"
   ]
  },
  {
   "cell_type": "code",
   "execution_count": 10,
   "id": "cbd0d830-d190-4f90-9dc9-8245c3b71e51",
   "metadata": {},
   "outputs": [
    {
     "data": {
      "text/plain": [
       "1"
      ]
     },
     "execution_count": 10,
     "metadata": {},
     "output_type": "execute_result"
    }
   ],
   "source": [
    "ct_sub_sum([1,3,4,1], 2)"
   ]
  },
  {
   "cell_type": "code",
   "execution_count": null,
   "id": "b9f3d9dc-a39d-466f-9370-b2ce2faa4f89",
   "metadata": {},
   "outputs": [],
   "source": []
  }
 ],
 "metadata": {
  "kernelspec": {
   "display_name": "Python 3 (ipykernel)",
   "language": "python",
   "name": "python3"
  },
  "language_info": {
   "codemirror_mode": {
    "name": "ipython",
    "version": 3
   },
   "file_extension": ".py",
   "mimetype": "text/x-python",
   "name": "python",
   "nbconvert_exporter": "python",
   "pygments_lexer": "ipython3",
   "version": "3.13.1"
  }
 },
 "nbformat": 4,
 "nbformat_minor": 5
}
