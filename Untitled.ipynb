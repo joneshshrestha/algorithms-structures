{
 "cells": [
  {
   "cell_type": "code",
   "execution_count": 19,
   "id": "299a5d3e-e5bf-45fd-9d2c-6a28d3502469",
   "metadata": {},
   "outputs": [],
   "source": [
    "def duplicates(lst):\n",
    "    dups = []\n",
    "    for i in range(len(lst) - 1):\n",
    "        for j in range(i, len(lst) - 1):\n",
    "            if lst[i] == lst[j + 1]:\n",
    "                dups.append(lst[i])\n",
    "            \n",
    "    return dups"
   ]
  },
  {
   "cell_type": "code",
   "execution_count": 20,
   "id": "5963162e-acc6-4a87-bf9f-d7e8bd4e9b6c",
   "metadata": {},
   "outputs": [
    {
     "data": {
      "text/plain": [
       "['dog', 'dog', 'bat', 'dog']"
      ]
     },
     "execution_count": 20,
     "metadata": {},
     "output_type": "execute_result"
    }
   ],
   "source": [
    "lst = ['cat', 'dog', 'bat', 'dog', 'fish', 'dog', 'bat']\n",
    "duplicates(lst)"
   ]
  },
  {
   "cell_type": "code",
   "execution_count": 2,
   "id": "6e62bb01-0685-418c-8274-2de7df26fb87",
   "metadata": {},
   "outputs": [],
   "source": [
    "def ct_sub_sum(X, t):\n",
    " 'how many subsets of X sum up to t?'\n",
    " if len(X) == 0:\n",
    "     return t == 0\n",
    " return ct_sub_sum(X[1:], t) or ct_sub_sum(X[1:], t-X[0]) "
   ]
  },
  {
   "cell_type": "code",
   "execution_count": 4,
   "id": "f0026efe-1db2-419e-9a59-2948d773665b",
   "metadata": {},
   "outputs": [],
   "source": [
    "def sub_sum (X, t) :\n",
    "    'is there a subset of X that sums up to t?'\n",
    "    if len (X) == 0:\n",
    "        return t == 0\n",
    "    return sub_sum(X[1:], t) or sub_sum(X[1:], t-X[0])"
   ]
  },
  {
   "cell_type": "code",
   "execution_count": 9,
   "id": "6d3f9b8f-c681-4efe-a140-9298cac26aca",
   "metadata": {},
   "outputs": [],
   "source": [
    "def ct_sub_sum(X, t):\n",
    "    if len(X) == 0:\n",
    "        # base case: if the list is empty and sum (t) == 0 we return 1 else 0\n",
    "        # instead of returning a boolean value if a valid subset is found\n",
    "        # i have instead returned 1 if a subset is found i.e. t == 0\n",
    "        # and if subset is not found I return 0 i.e t != 0\n",
    "        if t == 0:\n",
    "            return 1\n",
    "        else:\n",
    "            return 0\n",
    "\n",
    "    # previously it only returned boolean value if a subset is found using 'or' logic\n",
    "    # I have replaced this with '+' which will add the returned value of 1 each time a subset is found\n",
    "    # from both recursive calls\n",
    "    # and sums it up to return the counts of how many subsets of X sum up to t\n",
    "    return ct_sub_sum(X[1:], t) + ct_sub_sum(X[1:], t-X[0])"
   ]
  },
  {
   "cell_type": "code",
   "execution_count": 10,
   "id": "cbd0d830-d190-4f90-9dc9-8245c3b71e51",
   "metadata": {},
   "outputs": [
    {
     "data": {
      "text/plain": [
       "1"
      ]
     },
     "execution_count": 10,
     "metadata": {},
     "output_type": "execute_result"
    }
   ],
   "source": [
    "ct_sub_sum([1,3,4,1], 2)"
   ]
  },
  {
   "cell_type": "code",
   "execution_count": 1,
   "id": "b9f3d9dc-a39d-466f-9370-b2ce2faa4f89",
   "metadata": {},
   "outputs": [],
   "source": [
    "#running time: O(V+E)\n",
    "def rev(G):\n",
    "    'reverse edges of G'\n",
    "\n",
    "    revG = {}\n",
    "    for u in G:\n",
    "        revG[u] = []\n",
    "    for u in G:\n",
    "        for v in G[u]:\n",
    "            revG[v].append(u)\n",
    "    return revG\n",
    "\n",
    "def DFS(G):\n",
    "    'full DFS traversal of G'\n",
    "    clock = 0\n",
    "    marked = {}\n",
    "    PG = {} #parent graph, with clock info\n",
    "    for v in G:\n",
    "        marked[v] = False\n",
    "        PG[v] = [None, None, None] #pre, post, parent\n",
    "    for v in G:\n",
    "        if not marked[v]:\n",
    "            clock = DFS_r(G, v, clock, marked, PG)\n",
    "    return PG\n",
    "\n",
    "def DFS_r(G, v, clock, marked, PG):\n",
    "    'DFS of G starting at v'\n",
    "    marked[v] = True\n",
    "    clock += 1\n",
    "    PG[v][0] = clock\n",
    "    \n",
    "    for w in G[v]:\n",
    "        if not marked[w]:\n",
    "            PG[w][2] = v #parent\n",
    "            clock = DFS_r(G,w,clock, marked, PG)\n",
    "    clock += 1        \n",
    "    PG[v][1] = clock\n",
    "    return clock\n",
    "\n",
    "import networkx as nx\n",
    "import matplotlib.pyplot as plt\n",
    "\n",
    "def rd_dag(n,p,fname = ''):\n",
    "    'generate random dag of order n with each edge prob p'\n",
    "\n",
    "    G = nx.gnp_random_graph(n,p,directed = True)\n",
    "    D = nx.DiGraph([e for e in G.edges() if e[0]<e[1]])\n",
    "    if fname != '':\n",
    "        nx.write_graphml(D, fname)\n",
    "    return D\n",
    "\n",
    "    #some sample graphs\n",
    "\n",
    "#undirected graph for DFS\n",
    "G1 = {0: [1, 3, 4, 6, 7], 1: [0, 4, 7, 9], 2: [3, 5, 6, 9],\n",
    "     3: [0, 2, 7, 8], 4: [0, 1, 5], 5: [2, 4], \\\n",
    "     6: [0, 2, 8], 7: [0, 1, 3], 8: [3, 6], 9: [1, 2]} \n",
    "\n",
    "\n",
    "#tree from slides\n",
    "T = {'a': ['b', 'c', 'd'],\\\n",
    "     'b': ['a', 'e', 'f'],\\\n",
    "     'c': ['a'],\\\n",
    "     'd': ['a', 'g'],\\\n",
    "     'e': ['b'],\\\n",
    "     'f': ['b'],\\\n",
    "     'g': ['d', 'h', 'i', 'j'],\\\n",
    "     'h': ['g'],\\\n",
    "     'i': ['g'],\\\n",
    "     'j': ['g']}\n",
    "\n",
    "#top sort example\n",
    "D = {0: [6], \\\n",
    "     1: [], \\\n",
    "     2: [], \\\n",
    "     3: [1], \\\n",
    "     4: [1,2,3], \\\n",
    "     5: [0,3], \\\n",
    "     6: [2]}\n"
   ]
  },
  {
   "cell_type": "code",
   "execution_count": 11,
   "id": "c88807a0-a534-40c8-a8a6-a8ed7bcb359a",
   "metadata": {},
   "outputs": [
    {
     "data": {
      "text/plain": [
       "{'A': [], 'B': ['A'], 'C': ['A', 'D'], 'D': ['B'], 'E': ['C', 'D']}"
      ]
     },
     "execution_count": 11,
     "metadata": {},
     "output_type": "execute_result"
    }
   ],
   "source": [
    "graph = {\n",
    "    'A': ['B', 'C'],\n",
    "    'B': ['D'],\n",
    "    'C': ['E'],\n",
    "    'D': ['C', 'E'],\n",
    "    'E': []\n",
    "}\n",
    "\n",
    "rev(graph)"
   ]
  },
  {
   "cell_type": "code",
   "execution_count": 9,
   "id": "1283feb2-c8d3-43ea-9938-601fb7660bb6",
   "metadata": {},
   "outputs": [],
   "source": [
    "import networkx as nx\n",
    "import matplotlib.pyplot as plt\n",
    "G = rd_dag(10, 0.1)"
   ]
  },
  {
   "cell_type": "code",
   "execution_count": 10,
   "id": "b9b9d619-6c48-4c0d-9d35-c0c328c48c27",
   "metadata": {},
   "outputs": [
    {
     "data": {
      "image/png": "[encoded data removed]",
      "text/plain": [
       "<Figure size 640x480 with 1 Axes>"
      ]
     },
     "metadata": {},
     "output_type": "display_data"
    }
   ],
   "source": [
    "nx.draw(G)"
   ]
  },
  {
   "cell_type": "code",
   "execution_count": null,
   "id": "8b19d9ca-dc77-40d1-8780-26510f2d28ff",
   "metadata": {},
   "outputs": [],
   "source": []
  }
 ],
 "metadata": {
  "kernelspec": {
   "display_name": "Python 3 (ipykernel)",
   "language": "python",
   "name": "python3"
  },
  "language_info": {
   "codemirror_mode": {
    "name": "ipython",
    "version": 3
   },
   "file_extension": ".py",
   "mimetype": "text/x-python",
   "name": "python",
   "nbconvert_exporter": "python",
   "pygments_lexer": "ipython3",
   "version": "3.13.1"
  }
 },
 "nbformat": 4,
 "nbformat_minor": 5
}
