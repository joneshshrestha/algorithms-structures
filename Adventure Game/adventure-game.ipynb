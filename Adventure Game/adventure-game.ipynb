{
 "cells": [
  {
   "cell_type": "code",
   "execution_count": 1,
   "id": "ec86e79f-d937-4fdd-983a-6fe612d101a9",
   "metadata": {},
   "outputs": [
    {
     "name": "stdout",
     "output_type": "stream",
     "text": [
      "final: 6\n"
     ]
    }
   ],
   "source": [
    "import time \n",
    "\n",
    "main_board = [\n",
    "  (1, 4),\n",
    "  (4, 3),\n",
    "  (1, 4),\n",
    "  (4, 3),\n",
    "  (2, 3),\n",
    "  (3, 2),\n",
    "]\n",
    "\n",
    "cache = {}\n",
    "\n",
    "def get_score(board, absolute_position):\n",
    "  if len(board) <= absolute_position:\n",
    "    return 0\n",
    "    \n",
    "    if absolute_position in cache:\n",
    "        return cache[absolute_position]\n",
    "\n",
    "  data = board[absolute_position]\n",
    "  \n",
    "  step = data[1]\n",
    "  next_position = absolute_position + data[1]\n",
    "  next_position_score = get_score(board, next_position)\n",
    "  cache[next_position] = next_position_score\n",
    "  \n",
    "  score = data[0] + next_position_score\n",
    "  cache[absolute_position] = score\n",
    "  return score\n",
    "\n",
    "def win_game(board):\n",
    "  max = 0\n",
    "  for position, data in enumerate(board):\n",
    "    score = get_score(board, position)\n",
    "    if score > max:\n",
    "      max = score\n",
    "\n",
    "  return max\n",
    "\n",
    "max = win_game(main_board)\n",
    "print(f'final: {max}')"
   ]
  },
  {
   "cell_type": "code",
   "execution_count": 39,
   "id": "968c1552-33a6-4f00-94b4-be270c856bad",
   "metadata": {},
   "outputs": [],
   "source": [
    "# function that takes game G to calculate the maximum score possible\n",
    "def score_game(G):\n",
    "    n = len(G)\n",
    "    # cache used for memoization to store previously computed positions\n",
    "    cache = {}\n",
    "    \n",
    "    # this function recursively calculates \n",
    "    # the maximum coins collectable at each position i\n",
    "    def dp(i):\n",
    "        # base case: when current position i reaches \n",
    "        # beyond the length of the game i.e len(G)\n",
    "        if i >= n:\n",
    "            return 0\n",
    "        # memoization implementation which checks \n",
    "        # if we have already calculated the best score for position i    \n",
    "        if i in cache:\n",
    "            return cache[i]\n",
    "        # first choice of taking the coin and jumping\n",
    "        # we collect the coins at position G[i][0] \n",
    "        # and move to the index at i + G[i][1]\n",
    "        take_coins = G[i][0] + dp(i + G[i][1])\n",
    "        # second choice not taking the coins and moving to next field\n",
    "        dont_take_coins = dp(i + 1)\n",
    "        # check for the best move whether to take the coins \n",
    "        # or to not take the coins i.e. max(take_coins, dont_take_coins)\n",
    "        # store the best possible move at this position i and \n",
    "        # store it in cache to use for the next time\n",
    "        cache[i] = max(take_coins, dont_take_coins)\n",
    "        # return the best score at position i \n",
    "        return cache[i]\n",
    "    # starts the recursive process\n",
    "    return dp(0)"
   ]
  },
  {
   "cell_type": "code",
   "execution_count": 40,
   "id": "8c5bc469-4db4-4e7b-88dc-67f22cf22dc4",
   "metadata": {},
   "outputs": [
    {
     "data": {
      "text/plain": [
       "6"
      ]
     },
     "execution_count": 40,
     "metadata": {},
     "output_type": "execute_result"
    }
   ],
   "source": [
    "G = [(1, 4), (4, 3), (1, 4), (4, 3), (2, 3), (1, 2)]\n",
    "score_game(G)"
   ]
  },
  {
   "cell_type": "code",
   "execution_count": 41,
   "id": "b377b4cd-67c6-4eef-b05b-3a14b02e5337",
   "metadata": {},
   "outputs": [],
   "source": [
    "def win_game(G):\n",
    "    n = len(G)\n",
    "    # cache used for memoization to store previously computed positions\n",
    "    cache = {}\n",
    "    # stores the best move/jump at each position i\n",
    "    moves = {}  \n",
    "\n",
    "    def dp(i):\n",
    "        # base case: when current position i reaches \n",
    "        # beyond the length of the game i.e len(G)\n",
    "        if i >= n:\n",
    "            return 0\n",
    "        # memoization implementation which checks \n",
    "        # if we have already calculated the best score for position i    \n",
    "        if i in cache:\n",
    "            return cache[i]\n",
    "        \n",
    "        # first choice of taking the coin and jumping\n",
    "        # we collect the coins at position G[i][0] \n",
    "        # and move to the index at i + G[i][1]\n",
    "        take_coins = G[i][0] + dp(i + G[i][1])\n",
    "        # second choice not taking the coins and moving to next field\n",
    "        dont_take_coins = dp(i + 1)\n",
    "        \n",
    "        # since I need to store the best move at each position i \n",
    "        # in moves dictionary I am using if else block instead of max()\n",
    "        if take_coins > dont_take_coins:\n",
    "            # if the jump is the best option store the coins in cache[i]\n",
    "            cache[i] = take_coins\n",
    "            # if the jump is the best option\n",
    "            # store next jump position and 'jump' in move[i]\n",
    "            moves[i] = (i + G[i][1], 'jump')\n",
    "        else:\n",
    "            # if moving on is the best option move to next position i\n",
    "            cache[i] = dont_take_coins\n",
    "            # store next move position i+1 and 'jump' in move[i]\n",
    "            moves[i] = (i + 1, 'move')  # Store the move to the next position\n",
    "        # return the best score at position i \n",
    "        return cache[i]\n",
    "\n",
    "    # starts the recursive process\n",
    "    dp(0)\n",
    "\n",
    "    # reconstructing the best jump/move path\n",
    "    # intial position of the game stored in pos = 0\n",
    "    pos = 0\n",
    "    # tracks the total coins collected so far\n",
    "    purse = 0\n",
    "    # loops until we don't reach the end of the game (n)\n",
    "    # and the position (pos) is in our moves dictionary\n",
    "    while pos < n and pos in moves:\n",
    "        # prints the current position (pos)\n",
    "        print(f\"At location {pos}\")\n",
    "        # since we have stored the next jump/move position and\n",
    "        # the action i.e. 'jump' or 'move' in our move dictionary\n",
    "        # we can unpack those \n",
    "        next_pos, action = moves[pos]\n",
    "        # if we jumped we print the next jump position and\n",
    "        # collect the coins at that position i.e. G[pos][0]\n",
    "        # and display the new total coins in purse\n",
    "        if action == \"jump\":\n",
    "            print(f\"-- Will jump to {next_pos}\")\n",
    "            purse += G[pos][0]\n",
    "        # if we moved we print the next move position and\n",
    "        # won't collect the coins at that position and just\n",
    "        # display the total coins we collected previously\n",
    "        else:\n",
    "            print(f\"-- Will move to {next_pos}\")\n",
    "        print(f\"-- My purse holds {purse} coins\")\n",
    "        # moving to the next best position\n",
    "        pos = next_pos\n",
    "    # return the best score(coins)\n",
    "    return purse"
   ]
  },
  {
   "cell_type": "code",
   "execution_count": 44,
   "id": "2b35ed10-6cb7-4a4d-8bb6-421767bc67b6",
   "metadata": {},
   "outputs": [
    {
     "name": "stdout",
     "output_type": "stream",
     "text": [
      " $1 | $4 | $1 | $4 | $2 | $1 |\n",
      "--0----1----2----3----4----5--\n",
      " +4 | +3 | +4 | +3 | +3 | +2 |\n",
      "At location 0\n",
      "-- Will move to 1\n",
      "-- My purse holds 0 coins\n",
      "At location 1\n",
      "-- Will jump to 4\n",
      "-- My purse holds 4 coins\n",
      "At location 4\n",
      "-- Will jump to 7\n",
      "-- My purse holds 6 coins\n"
     ]
    },
    {
     "data": {
      "text/plain": [
       "6"
      ]
     },
     "execution_count": 44,
     "metadata": {},
     "output_type": "execute_result"
    }
   ],
   "source": [
    "# test run\n",
    "G = [(1, 4), (4, 3), (1, 4), (4, 3), (2, 3), (1, 2)]\n",
    "disp_game(G)\n",
    "win_game(G)"
   ]
  },
  {
   "cell_type": "code",
   "execution_count": 45,
   "id": "f44697f4-a3e8-4213-890d-ad352f731247",
   "metadata": {},
   "outputs": [
    {
     "name": "stdout",
     "output_type": "stream",
     "text": [
      " $4 | $0 | $0 | $5 | $1 | $4 | $4 | $5 | $3 |\n",
      "--0----1----2----3----4----5----6----7----8--\n",
      " +2 | +3 | +3 | +4 | +4 | +3 | +4 | +4 | +4 |\n",
      "At location 0\n",
      "-- Will jump to 2\n",
      "-- My purse holds 4 coins\n",
      "At location 2\n",
      "-- Will move to 3\n",
      "-- My purse holds 4 coins\n",
      "At location 3\n",
      "-- Will jump to 7\n",
      "-- My purse holds 9 coins\n",
      "At location 7\n",
      "-- Will jump to 11\n",
      "-- My purse holds 14 coins\n"
     ]
    },
    {
     "data": {
      "text/plain": [
       "14"
      ]
     },
     "execution_count": 45,
     "metadata": {},
     "output_type": "execute_result"
    }
   ],
   "source": [
    "from random import randrange\n",
    "\n",
    "def create_game(n):\n",
    "    'create coin game'\n",
    "    return [(randrange(0,6), randrange(2,5)) for _ in range(n)]\n",
    "def disp_game(G):\n",
    "    'display game G'\n",
    "    n = len(G)\n",
    "    for i in range(n):\n",
    "        print(' ${} |'.format(G[i][0]),end='')\n",
    "    print()\n",
    "    for i in range(n):\n",
    "        print('--{}--'.format(i), end = '') #only works if n <= 9\n",
    "    print()\n",
    "    for i in range(n):\n",
    "        print(' +{} |'.format(G[i][1]),end='')\n",
    "    print()\n",
    "\n",
    "G = create_game(9)\n",
    "disp_game(G)\n",
    "win_game(G)"
   ]
  }
 ],
 "metadata": {
  "kernelspec": {
   "display_name": "Python 3 (ipykernel)",
   "language": "python",
   "name": "python3"
  },
  "language_info": {
   "codemirror_mode": {
    "name": "ipython",
    "version": 3
   },
   "file_extension": ".py",
   "mimetype": "text/x-python",
   "name": "python",
   "nbconvert_exporter": "python",
   "pygments_lexer": "ipython3",
   "version": "3.13.1"
  }
 },
 "nbformat": 4,
 "nbformat_minor": 5
}
