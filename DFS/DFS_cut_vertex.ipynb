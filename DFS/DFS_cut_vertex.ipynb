{
 "cells": [
  {
   "cell_type": "code",
   "execution_count": 6,
   "id": "54112dea-5d3e-417f-b70d-060b169e3ab8",
   "metadata": {},
   "outputs": [],
   "source": [
    "# function to count the total number of child nodes \n",
    "# i.e. tree edges only and not the backward edges\n",
    "def DFS(G, v):\n",
    "    # initialize marked as a dictionary which stores vertices of G as key\n",
    "    # and boolean value True if visited or False if not visited\n",
    "    marked = {}\n",
    "    # initially assigning False to every vertices in G\n",
    "    for v in G:\n",
    "        marked[v] = False\n",
    "    \n",
    "    # setting the passed root vertex as False, \n",
    "    # so that we don't end up traversing the root node again\n",
    "    marked[v] = True\n",
    "    \n",
    "    # this is the child count of the passed vertex (v)\n",
    "    child_count = 0\n",
    "    \n",
    "    # loop over each neighbours of the passed vertex (v) in G\n",
    "    # which is the adjacent vertices assosiated with v i.e. G[v] \n",
    "    for w in G[v]:\n",
    "        # if the adjacent vertex (w) is not visited/marked then \n",
    "        # it is a child of the passed vertex (v)\n",
    "        if not marked[w]:\n",
    "            # in that case we increase v's child count by 1\n",
    "            child_count += 1\n",
    "            # now continuing the DFS traversal from vertex (w)\n",
    "            DFS_r(G, w, marked)\n",
    "\n",
    "    # after all unvisted vertex of v are visited here we return the total child_count\n",
    "    return child_count\n",
    "\n",
    "# recursive function to travese G starting from the passed vertex v which is u of DFS()\n",
    "def DFS_r(G, v, marked):\n",
    "    # sets the vertex passed (v)[which is w from DFS()], \n",
    "    # as marked/visted by assigning it with boolean value True\n",
    "    marked[v] = True\n",
    "    \n",
    "    # now loop through all the unmarked adjacent vertices of (v) from DFS()\n",
    "    for w in G[v]:\n",
    "        # only if any of the adjacent vertices of (v) is not visited/marked\n",
    "        # recursively explore their i.e.(v's) adjacent vertices and mark the vertices as True\n",
    "        # if all adjacent vertices are marked/visited we go back to the DFS() for loop \n",
    "        # and increase the child count iff another unvisted vertex is available of v in DFS()\n",
    "        # and repeat this process until all unvisted vertex of v are visited in DFS()\n",
    "        if not marked[w]:\n",
    "            DFS_r(G, w, marked)\n",
    "\n",
    "# function that returns True if and only if in the depth-first search\n",
    "# spanning tree of G rooted at v, v has at least two children\n",
    "def is_cut(G, v):\n",
    "    return DFS(G, v) >= 2"
   ]
  },
  {
   "cell_type": "code",
   "execution_count": 8,
   "id": "d21d4352-29d6-4cab-a029-b5ac50a04248",
   "metadata": {},
   "outputs": [
    {
     "name": "stdout",
     "output_type": "stream",
     "text": [
      "0: False\n",
      "1: False\n",
      "2: False\n",
      "3: False\n",
      "4: False\n",
      "5: False\n",
      "6: True\n",
      "7: False\n",
      "8: True\n",
      "9: False\n",
      "10: True\n",
      "11: True\n",
      "12: False\n"
     ]
    }
   ],
   "source": [
    "G = {\n",
    "    0: [11, 12],\n",
    "    1: [2, 8, 10, 11],\n",
    "    2: [1, 8, 10, 11],\n",
    "    3: [6, 7, 8],\n",
    "    4: [5, 6],\n",
    "    5: [4, 6],\n",
    "    6: [3, 4, 5, 7, 8],\n",
    "    7: [3, 6, 8],\n",
    "    8: [1, 2, 3, 6, 7, 10, 11],\n",
    "    9: [10],\n",
    "    10: [1, 2, 8, 9, 11],\n",
    "    11: [0, 1, 2, 8, 10, 12],\n",
    "    12: [0, 11]\n",
    "}\n",
    "\n",
    "for u in G:\n",
    "    print('{}: {}'.format(u, is_cut(G, u)))"
   ]
  },
  {
   "cell_type": "code",
   "execution_count": null,
   "id": "c3a19102-a96c-453f-a417-9b3d05b8d3cf",
   "metadata": {},
   "outputs": [],
   "source": []
  }
 ],
 "metadata": {
  "kernelspec": {
   "display_name": "Python 3 (ipykernel)",
   "language": "python",
   "name": "python3"
  },
  "language_info": {
   "codemirror_mode": {
    "name": "ipython",
    "version": 3
   },
   "file_extension": ".py",
   "mimetype": "text/x-python",
   "name": "python",
   "nbconvert_exporter": "python",
   "pygments_lexer": "ipython3",
   "version": "3.13.1"
  }
 },
 "nbformat": 4,
 "nbformat_minor": 5
}
