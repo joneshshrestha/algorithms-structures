{
 "cells": [
  {
   "cell_type": "code",
   "execution_count": 90,
   "id": "9356b67e-2562-4c87-b8ad-a1938b25893c",
   "metadata": {},
   "outputs": [],
   "source": [
    "# opens words.txt, reads the entrie content as a single string \n",
    "# and uses whitespace to split all words\n",
    "words = open('words.txt', 'r').read().split()\n",
    "\n",
    "# function that returns true if w is in the list of words else false\n",
    "def is_word(w):\n",
    "    return w in words\n",
    "\n",
    "# function that takes string s and optional argument nobreak (list) with default value []\n",
    "def segment(s, nobreak = []):\n",
    "    'segment s into words avoiding breaks at positions in nobreak'\n",
    "    # calls the function segment_r to perform segmentation starting at position 0\n",
    "    split = segment_r(s, 0, nobreak)\n",
    "    # if the function segment_r segments a string i.e split != None\n",
    "    if split != None:\n",
    "        # join all the segmented strings with a whitespace\n",
    "        return ' '.join(split)\n",
    "\n",
    "# function that segments the given string s from position i\n",
    "def segment_r(s, i, nobreak):\n",
    "    'segment s[i:] into words avoiding breaks at nobreak positions'\n",
    "    # base case: if it reaches here, it means that the segmentation is complete\n",
    "    # i is equal to the length of the string and there is no more string to segment\n",
    "    if i == len(s):\n",
    "        return []\n",
    "    \n",
    "    # loops from position starting at i+1 so that there is at least a single charater to compare\n",
    "    # against our words dictionary i.e is_word(s[i:j]) initially where i = 0 and j = i+1 = 1\n",
    "    for j in range(i+1, len(s)+1):\n",
    "        # checks if the current split position is in nobreak list\n",
    "        # if it is, skip this split position i.e. skip the code below and move to another iteration\n",
    "        if j in nobreak:\n",
    "            continue\n",
    "            \n",
    "        # if we can split in this position i.e current position j not in nobreak list\n",
    "        # and if we find a valid word\n",
    "        if is_word(s[i:j]):\n",
    "            # recursively try to segment the rest of the string after finding the first string\n",
    "            split = segment_r(s, j, nobreak)\n",
    "            # if we find any valid segmentation for the rest of the string, \n",
    "            # we append it to the base case empty array []\n",
    "            if split != None:\n",
    "                # after the base case ends, initially, the split is [], \n",
    "                # which is then added to [s[i:j]] i.e. last segmentation\n",
    "                # all the way to the first segmentation\n",
    "                return [s[i:j]] + split\n",
    "                \n",
    "    # if no valid segmentation is found, return\n",
    "    return"
   ]
  },
  {
   "cell_type": "code",
   "execution_count": 91,
   "id": "8bd569ea-9e4a-472b-bf06-896bc9b4c700",
   "metadata": {},
   "outputs": [
    {
     "name": "stdout",
     "output_type": "stream",
     "text": [
      "sun day is sun ny\n",
      "sunday is sun ny\n",
      "sunday is sunny\n"
     ]
    }
   ],
   "source": [
    "print(segment(\"sundayissunny\"))\n",
    "print(segment(\"sundayissunny\", [3]))\n",
    "print(segment(\"sundayissunny\", [3, 11]))"
   ]
  },
  {
   "cell_type": "code",
   "execution_count": 92,
   "id": "4ba65f63-99d5-415a-bf3a-19c8ea9e0f7f",
   "metadata": {},
   "outputs": [
    {
     "name": "stdout",
     "output_type": "stream",
     "text": [
      "wha ti st ruth\n",
      "what is truth\n",
      "wha tis truth\n",
      "wha tis truth\n",
      "what is truth\n"
     ]
    }
   ],
   "source": [
    "print(segment(\"whatistruth\"))\n",
    "print(segment(\"whatistruth\", [3, 7]))\n",
    "print(segment(\"whatistruth\", [7]))\n",
    "print(segment(\"whatistruth\", [5]))\n",
    "print(segment(\"whatistruth\", [3, 5]))"
   ]
  }
 ],
 "metadata": {
  "kernelspec": {
   "display_name": "Python 3 (ipykernel)",
   "language": "python",
   "name": "python3"
  },
  "language_info": {
   "codemirror_mode": {
    "name": "ipython",
    "version": 3
   },
   "file_extension": ".py",
   "mimetype": "text/x-python",
   "name": "python",
   "nbconvert_exporter": "python",
   "pygments_lexer": "ipython3",
   "version": "3.13.1"
  }
 },
 "nbformat": 4,
 "nbformat_minor": 5
}
